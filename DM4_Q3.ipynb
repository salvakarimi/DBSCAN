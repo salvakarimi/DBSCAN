{
  "nbformat": 4,
  "nbformat_minor": 0,
  "metadata": {
    "colab": {
      "name": "DM4_Q3.ipynb",
      "provenance": [],
      "collapsed_sections": []
    },
    "kernelspec": {
      "name": "python3",
      "display_name": "Python 3"
    }
  },
  "cells": [
    {
      "cell_type": "code",
      "metadata": {
        "id": "WDK0U6-invB5"
      },
      "source": [
        "import random\n",
        "from random import randint\n",
        "import math\n",
        "import pandas as pd\n",
        "import numpy as np\n",
        "import matplotlib.pyplot as plt\n",
        "import seaborn as sns\n",
        "import pandas_profiling as pp\n",
        "from sklearn.model_selection import train_test_split # Import train_test_split function\n",
        "from sklearn import metrics #Import scikit-learn metrics module for accuracy calculation\n",
        "import folium\n",
        "from sklearn.cluster import DBSCAN\n",
        "import branca.colormap as cm\n",
        "from sklearn.cluster import DBSCAN\n",
        "from sklearn.preprocessing import StandardScaler\n",
        "import matplotlib.cm as cm\n",
        "import matplotlib.colors as colors\n"
      ],
      "execution_count": null,
      "outputs": []
    },
    {
      "cell_type": "code",
      "metadata": {
        "id": "Cm0XXKUMM7TK",
        "collapsed": true
      },
      "source": [
        "covid = pd.read_csv('/content/covid.csv')\n",
        "covid.columns=['x','y']\n",
        "covid.head()"
      ],
      "execution_count": null,
      "outputs": []
    },
    {
      "cell_type": "code",
      "metadata": {
        "id": "H9LNiUaZNYn_"
      },
      "source": [
        "m=folium.Map(location=[32.427910,53.688046],zoom_start=5)\n",
        "\n",
        "#marking an example\n",
        "loc=[35.703136,51.409126]\n",
        "folium.Marker(location=loc).add_to(m)\n",
        "display(m)"
      ],
      "execution_count": null,
      "outputs": []
    },
    {
      "cell_type": "markdown",
      "metadata": {
        "id": "a9dn-1KVCQky"
      },
      "source": [
        "A"
      ]
    },
    {
      "cell_type": "code",
      "metadata": {
        "id": "JbZh-JBlQnT4"
      },
      "source": [
        "for i in range(len(covid)):\n",
        "  folium.Circle(location=covid.iloc[i],radius=1,color=\"red\",fill=True).add_to(m)\n",
        "m"
      ],
      "execution_count": null,
      "outputs": []
    },
    {
      "cell_type": "markdown",
      "metadata": {
        "id": "JyIeOtlua0Bt"
      },
      "source": [
        "DBSCAN"
      ]
    },
    {
      "cell_type": "markdown",
      "metadata": {
        "id": "SMBSUU7YhEte"
      },
      "source": [
        "B"
      ]
    },
    {
      "cell_type": "code",
      "metadata": {
        "id": "25X2GDTma1NJ"
      },
      "source": [
        "#8 cluster\n",
        "model = DBSCAN(eps=0.6, min_samples=400).fit(X)\n",
        "class_predictions = model.labels_\n",
        "covid['CLUSTERS_DBSCAN'] = class_predictions\n",
        "covid.groupby(\"CLUSTERS_DBSCAN\").count()\n",
        "\n",
        "\n"
      ],
      "execution_count": null,
      "outputs": []
    },
    {
      "cell_type": "markdown",
      "metadata": {
        "id": "kp9NOtl_Ch_U"
      },
      "source": [
        "C"
      ]
    },
    {
      "cell_type": "code",
      "metadata": {
        "id": "aHm_BcbgCiwQ"
      },
      "source": [
        "#5 cluster\n",
        "model_5 = DBSCAN(eps=0.5, min_samples=450).fit(X)\n",
        "class_predictions5 = model_5.labels_\n",
        "covid['CLUSTERS_DBSCAN'] = class_predictions5\n",
        "covid.groupby(\"CLUSTERS_DBSCAN\").count()"
      ],
      "execution_count": null,
      "outputs": []
    },
    {
      "cell_type": "code",
      "metadata": {
        "id": "zY2_fFH8C2en"
      },
      "source": [
        "#4cluster\n",
        "model = DBSCAN(eps=0.3, min_samples=450).fit(X)\n",
        "class_predictions = model.labels_\n",
        "covid['CLUSTERS_DBSCAN'] = class_predictions\n",
        "covid.groupby(\"CLUSTERS_DBSCAN\").count()"
      ],
      "execution_count": null,
      "outputs": []
    },
    {
      "cell_type": "code",
      "metadata": {
        "id": "l6m24jRODDcT"
      },
      "source": [
        "#6 cluster\n",
        "model = DBSCAN(eps=0.6, min_samples=500).fit(X)\n",
        "class_predictions = model.labels_\n",
        "covid['CLUSTERS_DBSCAN'] = class_predictions\n",
        "covid.groupby(\"CLUSTERS_DBSCAN\").count()"
      ],
      "execution_count": null,
      "outputs": []
    },
    {
      "cell_type": "code",
      "metadata": {
        "id": "zVa2KzCkDQEy"
      },
      "source": [
        "#3 cluster\n",
        "model = DBSCAN(eps=0.2, min_samples=400).fit(X)\n",
        "class_predictions = model.labels_\n",
        "covid['CLUSTERS_DBSCAN'] = class_predictions\n",
        "covid.groupby(\"CLUSTERS_DBSCAN\").count()"
      ],
      "execution_count": null,
      "outputs": []
    },
    {
      "cell_type": "markdown",
      "metadata": {
        "id": "wRSg8lM2D9wv"
      },
      "source": [
        "D"
      ]
    },
    {
      "cell_type": "code",
      "metadata": {
        "id": "PEjr5uMjEczB"
      },
      "source": [
        "def get_color(index):\n",
        "  if index== -1:\n",
        "    return 'black'\n",
        "  elif index==0:\n",
        "    return 'red'\n",
        "  elif index==1:\n",
        "    return 'blue'\n",
        "  elif index==2:\n",
        "    return \"purple\"\n",
        "  elif index==3:\n",
        "    return 'green'\n",
        "  elif index==4:\n",
        "    return 'yellow'\n"
      ],
      "execution_count": null,
      "outputs": []
    },
    {
      "cell_type": "markdown",
      "metadata": {
        "id": "2UhxWMBUMLNo"
      },
      "source": [
        "black is noise"
      ]
    },
    {
      "cell_type": "code",
      "metadata": {
        "id": "nzivchYhD-e3"
      },
      "source": [
        "m_result=folium.Map(location=[32.427910,53.688046],zoom_start=5)\n",
        "for i in range(len(covid)):\n",
        "  folium.Circle(location=covid.iloc[i,:],radius=1,color=get_color(covid.iloc[i,-1]),fill=True).add_to(m_result)\n",
        "m_result"
      ],
      "execution_count": null,
      "outputs": []
    },
    {
      "cell_type": "markdown",
      "metadata": {
        "id": "wAXmYP-aNdZZ"
      },
      "source": [
        "Tehran,Rasht,Mashhad,Arak,Gorgan"
      ]
    }
  ]
}